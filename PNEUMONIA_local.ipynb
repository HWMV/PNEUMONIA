{
  "nbformat": 4,
  "nbformat_minor": 0,
  "metadata": {
    "colab": {
      "provenance": [],
      "authorship_tag": "ABX9TyP2tmDX1OvPttsxUVTvyH6p",
      "include_colab_link": true
    },
    "kernelspec": {
      "name": "python3",
      "display_name": "Python 3"
    },
    "language_info": {
      "name": "python"
    }
  },
  "cells": [
    {
      "cell_type": "markdown",
      "metadata": {
        "id": "view-in-github",
        "colab_type": "text"
      },
      "source": [
        "<a href=\"https://colab.research.google.com/github/HWMV/PNEUMONIA/blob/main/PNEUMONIA_local.ipynb\" target=\"_parent\"><img src=\"https://colab.research.google.com/assets/colab-badge.svg\" alt=\"Open In Colab\"/></a>"
      ]
    },
    {
      "cell_type": "code",
      "execution_count": null,
      "metadata": {
        "id": "Sxd9KVbAEWPT"
      },
      "outputs": [],
      "source": []
    },
    {
      "cell_type": "markdown",
      "source": [
        "# PNEUMONIA Classification\n",
        "# ResNet model\n",
        "# pre-trained\n",
        "\n",
        "## Data download in Local\n",
        "## Aiffel Cloud dir data"
      ],
      "metadata": {
        "id": "Vah68Q-4Ebrc"
      }
    },
    {
      "cell_type": "markdown",
      "source": [
        "## 1. Set-up"
      ],
      "metadata": {
        "id": "_GaGZbnoEmge"
      }
    },
    {
      "cell_type": "code",
      "source": [
        "import os, re\n",
        "import random, math\n",
        "import numpy as np\n",
        "import tensorflow as tf\n",
        "import matplotlib.pyplot as plt\n",
        "import warnings\n",
        "warnings.filterwarnings(action='ignore')"
      ],
      "metadata": {
        "id": "vkZ-e5jyEb7V"
      },
      "execution_count": null,
      "outputs": []
    },
    {
      "cell_type": "code",
      "source": [
        "# data load\n",
        "# 데이터 로드할 때 빠르게 로드할 수 있도록하는 설정 변수\n",
        "AUTOTUNE = tf.data.experimental.AUTOTUNE\n",
        "# X-RAY 이미지 사이즈 변수\n",
        "IMAGE_SIZE = [180, 180]\n",
        "\n",
        "# 데이터 경로 변수\n",
        "ROOT_PATH = os.path.join(os.getenv('HOME'), 'aiffel')\n",
        "TRAIN_PATH = ROOT_PATH + '/chest_xray/data/train/*/*' # *은 모든 디렉토리와 파일을 의미합니다.\n",
        "VAL_PATH = ROOT_PATH + '/chest_xray/data/val/*/*'\n",
        "TEST_PATH = ROOT_PATH + '/chest_xray/data/test/*/*'\n",
        "\n",
        "# 프로젝트를 진행할 때 아래 두 변수를 변경해보세요\n",
        "BATCH_SIZE = 16\n",
        "EPOCHS = 10\n",
        "\n",
        "print(ROOT_PATH)"
      ],
      "metadata": {
        "id": "4nD7G8vyEpLj"
      },
      "execution_count": null,
      "outputs": []
    },
    {
      "cell_type": "markdown",
      "source": [
        "## 2. Data-load"
      ],
      "metadata": {
        "id": "kWUa8JZzE8bI"
      }
    },
    {
      "cell_type": "code",
      "source": [
        "# data load 2\n",
        "# data 별 num Check\n",
        "train_filenames = tf.io.gfile.glob(TRAIN_PATH)\n",
        "test_filenames = tf.io.gfile.glob(TEST_PATH)\n",
        "val_filenames = tf.io.gfile.glob(VAL_PATH)\n",
        "\n",
        "print(len(train_filenames))\n",
        "print(len(test_filenames))\n",
        "print(len(val_filenames))"
      ],
      "metadata": {
        "id": "hN9VWIGCEpN6"
      },
      "execution_count": null,
      "outputs": []
    },
    {
      "cell_type": "code",
      "source": [
        "# val data 수량이 적어서 train과 분할\n",
        "# train 데이터와 validation 데이터를 모두 filenames에 담습니다\n",
        "\n",
        "filenames = tf.io.gfile.glob(TRAIN_PATH)\n",
        "filenames.extend(tf.io.gfile.glob(VAL_PATH))\n",
        "\n",
        "# 모아진 filenames를 8:2로 나눕니다\n",
        "train_size = math.floor(len(filenames)*0.8)\n",
        "random.seed(8)\n",
        "random.shuffle(filenames)\n",
        "train_filenames = filenames[:train_size]\n",
        "val_filenames = filenames[train_size:]\n",
        "\n",
        "print(len(train_filenames))\n",
        "print(len(val_filenames))"
      ],
      "metadata": {
        "id": "98VbdwEpEpQf"
      },
      "execution_count": null,
      "outputs": []
    },
    {
      "cell_type": "code",
      "source": [
        "# 정상, 폐렴 data dir (NORMAL, PNEUMONIA) 데이터 분할 해놓았음\n",
        "print(f'Normal image path\\n{filenames[0]}')\n",
        "print(f'Pneumonia image path\\n{filenames[2000]}')"
      ],
      "metadata": {
        "id": "jLO4pYvoEpS1"
      },
      "execution_count": null,
      "outputs": []
    },
    {
      "cell_type": "code",
      "source": [
        "# 정상, 폐렴 경로대로 data num check\n",
        "COUNT_NORMAL = len([filename for filename in train_filenames if \"NORMAL\" in filename])\n",
        "print(f\"Normal images count in training set: {COUNT_NORMAL}\")\n",
        "\n",
        "\n",
        "COUNT_PNEUMONIA = len([filename for filename in train_filenames if \"PNEUMONIA\" in filename])\n",
        "print(f\"Pneumonia images count in training set: {COUNT_PNEUMONIA}\")\n",
        "\n",
        "# 결과 Normal : 1093, Pneumonia : 3092\n",
        "# train data imbalance"
      ],
      "metadata": {
        "id": "xwnDtdlbEpVL"
      },
      "execution_count": null,
      "outputs": []
    },
    {
      "cell_type": "code",
      "source": [
        "# 데이터 파이프라인 만들기. train, val data tensor로 저장\n",
        "train_list_ds = tf.data.Dataset.from_tensor_slices(train_filenames)\n",
        "val_list_ds = tf.data.Dataset.from_tensor_slices(val_filenames)"
      ],
      "metadata": {
        "id": "ygNcWgwSEpXz"
      },
      "execution_count": null,
      "outputs": []
    },
    {
      "cell_type": "code",
      "source": [
        "# train, val dataset num Check\n",
        "TRAIN_IMG_COUNT = tf.data.experimental.cardinality(train_list_ds).numpy()\n",
        "print(f\"Training images count: {TRAIN_IMG_COUNT}\")\n",
        "\n",
        "VAL_IMG_COUNT = tf.data.experimental.cardinality(val_list_ds).numpy()\n",
        "print(f\"Validating images count: {VAL_IMG_COUNT}\")"
      ],
      "metadata": {
        "id": "cQPPxizEFE_6"
      },
      "execution_count": null,
      "outputs": []
    },
    {
      "cell_type": "code",
      "source": [
        "# label data 만들기. 경로로 분할 되있으니 경로로 만들어주기\n",
        "# os.path.sep : 파일 경로를 '/' 구분자로 분할\n",
        "# data/train/PNEUMONIA/image_file 이라 [-2]로 구분\n",
        "# 파일 경로의 끝에서 두번째 부분을 확인하면 양성과 음성을 구분할 수 있습니다\n",
        "\n",
        "def get_label(file_path):\n",
        "    parts = tf.strings.split(file_path, os.path.sep)\n",
        "    return parts[-2] == \"PNEUMONIA\"   # 폐렴이면 양성(True), 노말이면 음성(False)"
      ],
      "metadata": {
        "id": "d6WGJwe5FFCb"
      },
      "execution_count": null,
      "outputs": []
    },
    {
      "cell_type": "code",
      "source": [
        "# 원본 데이터 Type Check\n",
        "element_spec = train_list_ds.element_spec\n",
        "print(element_spec)"
      ],
      "metadata": {
        "id": "tiO5AmtGFFFC"
      },
      "execution_count": null,
      "outputs": []
    },
    {
      "cell_type": "code",
      "source": [
        "# Resize image(decode) & Type Change (str > unit8 > float32 > resize)\n",
        "\n",
        "def decode_img(img):\n",
        "    img = tf.image.decode_jpeg(img, channels=3) # 이미지를 uint8 tensor로 수정\n",
        "    img = tf.image.convert_image_dtype(img, tf.float32) # float32 타입으로 수정\n",
        "    img = tf.image.resize(img, IMAGE_SIZE) # 이미지 사이즈를 IMAGE_SIZE로 수정\n",
        "    return img\n",
        "\n",
        "# 이미지 파일의 경로를 입력하면 이미지와 라벨을 읽어옵니다.\n",
        "def process_path(file_path):\n",
        "    label = get_label(file_path) # 라벨 검출\n",
        "    img = tf.io.read_file(file_path) # 이미지 읽기\n",
        "    img = decode_img(img) # 이미지를 알맞은 형식으로 수정\n",
        "    return img, label"
      ],
      "metadata": {
        "id": "8HO2yEMUFFH7"
      },
      "execution_count": null,
      "outputs": []
    },
    {
      "cell_type": "code",
      "source": [
        "# dataset 생성\n",
        "train_ds = train_list_ds.map(process_path, num_parallel_calls=AUTOTUNE)\n",
        "val_ds = val_list_ds.map(process_path, num_parallel_calls=AUTOTUNE)"
      ],
      "metadata": {
        "id": "GVTUrpodFFKO"
      },
      "execution_count": null,
      "outputs": []
    },
    {
      "cell_type": "code",
      "source": [
        "# dataset shape 확인\n",
        "data_element_spec = train_ds.element_spec\n",
        "print(data_element_spec)\n",
        "# 결과 shape(180,180,3) type=float32"
      ],
      "metadata": {
        "id": "AZ83fT2CFLfR"
      },
      "execution_count": null,
      "outputs": []
    },
    {
      "cell_type": "code",
      "source": [
        "# image resize, label Check\n",
        "\n",
        "for image, label in train_ds.take(1):\n",
        "    print(\"Image shape: \", image.numpy().shape)\n",
        "    print(\"Label: \", label.numpy())"
      ],
      "metadata": {
        "id": "paEd03OyFLhz"
      },
      "execution_count": null,
      "outputs": []
    },
    {
      "cell_type": "code",
      "source": [
        "# test dataset 생성 & data num Check\n",
        "\n",
        "test_list_ds = tf.data.Dataset.list_files(TEST_PATH)\n",
        "TEST_IMAGE_COUNT = tf.data.experimental.cardinality(test_list_ds).numpy()\n",
        "test_ds = test_list_ds.map(process_path, num_parallel_calls=AUTOTUNE)\n",
        "test_ds = test_ds.batch(BATCH_SIZE)\n",
        "\n",
        "print(TEST_IMAGE_COUNT)"
      ],
      "metadata": {
        "id": "NbzrX1ZQFLka"
      },
      "execution_count": null,
      "outputs": []
    },
    {
      "cell_type": "code",
      "source": [
        "# data 변환\n",
        "# shuffle(), repeat(), batch()\n",
        "# prefetch(): GPU에서 학습하는 동안 다음 데이터 CPU에서 준비하는 함수\n",
        "# prefetch() 모르는 함수 (기억!)\n",
        "\n",
        "def prepare_for_training(ds, shuffle_buffer_size=1000):\n",
        "    ds = ds.shuffle(buffer_size=shuffle_buffer_size)\n",
        "    ds = ds.repeat()\n",
        "    ds = ds.batch(BATCH_SIZE)\n",
        "    ds = ds.prefetch(buffer_size=AUTOTUNE)\n",
        "    return ds\n",
        "\n",
        "train_ds = prepare_for_training(train_ds)\n",
        "val_ds = prepare_for_training(val_ds)"
      ],
      "metadata": {
        "id": "Fh9MWyyIFLpH"
      },
      "execution_count": null,
      "outputs": []
    },
    {
      "cell_type": "markdown",
      "source": [
        "## 3. Data-visualization"
      ],
      "metadata": {
        "id": "Y3aZqFlAFQ7p"
      }
    },
    {
      "cell_type": "code",
      "source": [
        "# data 시각화\n",
        "# 첫 번째 배치 추출\n",
        "# for문으로 정상/폐렴 분할\n",
        "\n",
        "# 이미지 배치를 입력하면 여러장의 이미지를 보여줍니다.\n",
        "def show_batch(image_batch, label_batch):\n",
        "    plt.figure(figsize=(10,10))\n",
        "    for n in range(BATCH_SIZE):\n",
        "        ax = plt.subplot(4,math.ceil(BATCH_SIZE/4),n+1)\n",
        "        plt.imshow(image_batch[n])\n",
        "        if label_batch[n]:\n",
        "            plt.title(\"PNEUMONIA\")\n",
        "        else:\n",
        "            plt.title(\"NORMAL\")\n",
        "        plt.axis(\"off\")\n",
        "\n",
        "\n",
        "image_batch, label_batch = next(iter(train_ds))\n",
        "show_batch(image_batch.numpy(), label_batch.numpy())"
      ],
      "metadata": {
        "id": "hfeMSfokFLr9"
      },
      "execution_count": null,
      "outputs": []
    },
    {
      "cell_type": "markdown",
      "source": [
        "## 4. CNN Modeling > Expected ResNet Modeling modify\n",
        "\n"
      ],
      "metadata": {
        "id": "nuqbjkcJFXTK"
      }
    },
    {
      "cell_type": "code",
      "source": [
        "# Convolution block 함수 생성 (Conv Layer)\n",
        "# BatchNormalization : 기울기 소실/발산 방지\n",
        "\n",
        "def conv_block(filters):\n",
        "    block = tf.keras.Sequential([\n",
        "        tf.keras.layers.SeparableConv2D(filters, 3, activation='relu', padding='same'),\n",
        "        tf.keras.layers.SeparableConv2D(filters, 3, activation='relu', padding='same'),\n",
        "        tf.keras.layers.BatchNormalization(),\n",
        "        tf.keras.layers.MaxPool2D()\n",
        "    ])\n",
        "\n",
        "    return block"
      ],
      "metadata": {
        "id": "4_HMYYhTFVeF"
      },
      "execution_count": null,
      "outputs": []
    },
    {
      "cell_type": "code",
      "source": [
        "# Dense Block 함수 생성 (FC Layer)\n",
        "# Dropout Overfitting 방지\n",
        "\n",
        "def dense_block(units, dropout_rate):\n",
        "    block = tf.keras.Sequential([\n",
        "        tf.keras.layers.Dense(units, activation='relu'),\n",
        "        tf.keras.layers.BatchNormalization(),\n",
        "        tf.keras.layers.Dropout(dropout_rate)\n",
        "    ])\n",
        "\n",
        "    return block"
      ],
      "metadata": {
        "id": "sMjiNnt4FlLW"
      },
      "execution_count": null,
      "outputs": []
    },
    {
      "cell_type": "code",
      "source": [
        "# Model build function\n",
        "\n",
        "def build_model():\n",
        "    model = tf.keras.Sequential([\n",
        "        tf.keras.Input(shape=(IMAGE_SIZE[0], IMAGE_SIZE[1], 3)),\n",
        "\n",
        "        tf.keras.layers.Conv2D(16, 3, activation='relu', padding='same'),\n",
        "        tf.keras.layers.Conv2D(16, 3, activation='relu', padding='same'),\n",
        "        tf.keras.layers.MaxPool2D(),\n",
        "\n",
        "        conv_block(32),\n",
        "        conv_block(64),\n",
        "\n",
        "        conv_block(128),\n",
        "        tf.keras.layers.Dropout(0.2),\n",
        "\n",
        "        conv_block(256),\n",
        "        tf.keras.layers.Dropout(0.2),\n",
        "\n",
        "        tf.keras.layers.Flatten(),\n",
        "        dense_block(512, 0.7),\n",
        "        dense_block(128, 0.5),\n",
        "        dense_block(64, 0.3),\n",
        "\n",
        "        tf.keras.layers.Dense(1, activation='sigmoid')\n",
        "    ])\n",
        "\n",
        "    return model"
      ],
      "metadata": {
        "id": "dcv3-4BgFlN-"
      },
      "execution_count": null,
      "outputs": []
    },
    {
      "cell_type": "markdown",
      "source": [
        "## 5. Data-imbalance\n",
        "위에서 PNEUMONIA, NORMAL data 차이가 많이 납니다"
      ],
      "metadata": {
        "id": "rJHTtgXkFq0H"
      }
    },
    {
      "cell_type": "code",
      "source": [
        "# imbalance 처리\n",
        "# Weight balaning technic 처음 봄(기억!)\n",
        "# train data에서 특정 class에 큰 가중치를 주어서 balance 맞추는 기법\n",
        "# 0 : 정상, 1: 폐렴\n",
        "\n",
        "# 서로 클래스 건수에 반비례하게 설정하는 코드\n",
        "weight_for_0 = (1 / COUNT_NORMAL)*(TRAIN_IMG_COUNT)/2.0\n",
        "weight_for_1 = (1 / COUNT_PNEUMONIA)*(TRAIN_IMG_COUNT)/2.0\n",
        "\n",
        "class_weight = {0: weight_for_0, 1: weight_for_1}\n",
        "\n",
        "print('Weight for NORMAL: {:.2f}'.format(weight_for_0))\n",
        "print('Weight for PNEUMONIA: {:.2f}'.format(weight_for_1))"
      ],
      "metadata": {
        "id": "ukBnaZWHFlQ2"
      },
      "execution_count": null,
      "outputs": []
    },
    {
      "cell_type": "markdown",
      "source": [
        "## 6. Model-fit"
      ],
      "metadata": {
        "id": "SlQHA5K8F5XG"
      }
    },
    {
      "cell_type": "code",
      "source": [
        "# GPU 사용 설정 : 코랩에서만 해서 처음 보는 코드 (기억!)\n",
        "\n",
        "with tf.device('/GPU:0'):\n",
        "    model = build_model()\n",
        "\n",
        "    METRICS = [\n",
        "        'accuracy',\n",
        "        tf.keras.metrics.Precision(name='precision'),\n",
        "        tf.keras.metrics.Recall(name='recall')\n",
        "    ]\n",
        "\n",
        "    model.compile(\n",
        "        optimizer='adam',\n",
        "        loss='binary_crossentropy',\n",
        "        metrics=METRICS\n",
        "    )"
      ],
      "metadata": {
        "id": "Gy5HYTIpF713"
      },
      "execution_count": null,
      "outputs": []
    },
    {
      "cell_type": "code",
      "source": [
        "# 파라미터들을 대입하고 모델 fit\n",
        "\n",
        "with tf.device('/GPU:0'):\n",
        "    history = model.fit(\n",
        "        train_ds,\n",
        "        steps_per_epoch=TRAIN_IMG_COUNT // BATCH_SIZE,\n",
        "        epochs=EPOCHS,\n",
        "        validation_data=val_ds,\n",
        "        validation_steps=VAL_IMG_COUNT // BATCH_SIZE,\n",
        "        class_weight=class_weight,\n",
        "    )"
      ],
      "metadata": {
        "id": "Yz7tbUxXF74c"
      },
      "execution_count": null,
      "outputs": []
    },
    {
      "cell_type": "markdown",
      "source": [
        "## 7. 결과 확인"
      ],
      "metadata": {
        "id": "aRTmqr8HGAEI"
      }
    },
    {
      "cell_type": "code",
      "source": [
        "# 시각화 precision, recall, acc, loss\n",
        "\n",
        "fig, ax = plt.subplots(1, 4, figsize=(20, 3))\n",
        "ax = ax.ravel()\n",
        "\n",
        "for i, met in enumerate(['precision', 'recall', 'accuracy', 'loss']):\n",
        "    ax[i].plot(history.history[met])\n",
        "    ax[i].plot(history.history['val_' + met])\n",
        "    ax[i].set_title('Model {}'.format(met))\n",
        "    ax[i].set_xlabel('epochs')\n",
        "    ax[i].set_ylabel(met)\n",
        "    ax[i].legend(['train', 'val'])"
      ],
      "metadata": {
        "id": "CXS4UQXXF77m"
      },
      "execution_count": null,
      "outputs": []
    },
    {
      "cell_type": "code",
      "source": [
        "# test output\n",
        "loss, accuracy, precision, recall = model.evaluate(test_ds)\n",
        "print(f'Loss: {loss},\\nAccuracy: {accuracy},\\nPrecision: {precision},\\nRecall: {recall}')"
      ],
      "metadata": {
        "id": "NRbk6SosFlTc"
      },
      "execution_count": null,
      "outputs": []
    }
  ]
}